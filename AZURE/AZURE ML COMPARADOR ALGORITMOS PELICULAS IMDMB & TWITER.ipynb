{
 "cells": [
  {
   "cell_type": "markdown",
   "metadata": {},
   "source": [
    "## PRÁCTICA COMPARADOR ALGORITMOS AZURE ML STUDIO - MANUEL DEL PINO GUERRERO"
   ]
  },
  {
   "cell_type": "markdown",
   "metadata": {},
   "source": [
    "#### 1) Para llevar a cabo esta práctica de AZURE ML, voy a escoger los datasets MovieRatings y MovieTweets haciéndo en primer lugar un Inner Join Data en las variables Movie_Id en cuyo proceso debo configurar la MetaData para así poder trabajar con la variable Rating (MoveiRatings) y Rating2 (MovieTweets)."
   ]
  },
  {
   "cell_type": "markdown",
   "metadata": {},
   "source": [
    "Posteriormente, voy a aplicar una query SQL donde convierta la variable target (RATINGS) en binaria 0 y 1 en función de si las valoraciones han sido menores o mayores del 7.\n",
    "\n",
    "Una vez transformado el Dataset previamenete unido, le aplico un SPLIT DATA para así llevar a cabo los modelos de TRAINING Y TEST que en este caso ha quedado por defecto en 50% y 50% respectivamente.\n",
    "\n",
    "Una vez entrenado el modelo, aplico dos algoritmos para después evaluar sus resultados a través de un scoring y evaluate model.\n",
    "\n",
    "En mi caso, los algoritmos ML escogidos han sido un TWO CLASS NEURAL NETWORK y un TWO CLASS DECISION FOREST,ya que se trata de una variable binaria o dicotómica y por tanto debemos usar algoritmos de clasificación en este caso."
   ]
  },
  {
   "cell_type": "markdown",
   "metadata": {},
   "source": [
    "#### 2) Se pueden observar los resultados del web service output en los siguientes ejecutables más abajo descritos con sus códigos tal y como se requiere en la práctica."
   ]
  },
  {
   "cell_type": "markdown",
   "metadata": {},
   "source": [
    "### TWO CLASS NEURAL NETWORK"
   ]
  },
  {
   "cell_type": "code",
   "execution_count": 1,
   "metadata": {},
   "outputs": [
    {
     "name": "stdout",
     "output_type": "stream",
     "text": [
      "The request failed with status code: 401\n",
      "Content-Length: 179\n",
      "Content-Type: application/json; charset=utf-8\n",
      "Server: Microsoft-HTTPAPI/2.0\n",
      "x-ms-request-id: 22f683ff-503c-473f-8274-03f95228b1d1\n",
      "Date: Mon, 18 Mar 2019 11:50:05 GMT\n",
      "Connection: close\n",
      "\n",
      "\n",
      "{'error': {'code': 'Unauthorized', 'message': 'Request is unauthorized to access resource.', 'details': [{'code': 'ScoreRequestUnauthorized', 'message': 'Invalid credentials provided.'}]}}\n"
     ]
    }
   ],
   "source": [
    "import urllib.request\n",
    "import json\n",
    "\n",
    "data = {\n",
    "        \"Inputs\": {\n",
    "                \"input1\":\n",
    "                [\n",
    "                    {\n",
    "                            'Rating': \"1\",   \n",
    "                            'Rating2': \"1\",   \n",
    "                            'MovieId': \"1\",   \n",
    "                            'Label': \"1\",   \n",
    "                    }\n",
    "                ],\n",
    "        },\n",
    "    \"GlobalParameters\":  {\n",
    "    }\n",
    "}\n",
    "\n",
    "body = str.encode(json.dumps(data))\n",
    "\n",
    "url = 'https://ussouthcentral.services.azureml.net/workspaces/191d5da9db064093b307739e0c4a02a7/services/0776ff348d3541ab88ec5dad4d1e3656/execute?api-version=2.0&format=swagger'\n",
    "api_key = 'BymR0nVMCgV+fSui9RT1J5IaEBksJASnK9OkryuXZ1vsn+nM4cHZ9q6DR+NN8Cu4dF94h3Y4OVXRb2WFWm/LBg==' # Replace this with the API key for the web service\n",
    "headers = {'Content-Type':'application/json', 'Authorization':('Bearer '+ api_key)}\n",
    "\n",
    "req = urllib.request.Request(url, body, headers)\n",
    "\n",
    "try:\n",
    "    response = urllib.request.urlopen(req)\n",
    "\n",
    "    result = response.read()\n",
    "    print(result)\n",
    "except urllib.error.HTTPError as error:\n",
    "    print(\"The request failed with status code: \" + str(error.code))\n",
    "\n",
    "    # Print the headers - they include the requert ID and the timestamp, which are useful for debugging the failure\n",
    "    print(error.info())\n",
    "    print(json.loads(error.read().decode(\"utf8\", 'ignore')))"
   ]
  },
  {
   "cell_type": "markdown",
   "metadata": {},
   "source": []
  },
  {
   "cell_type": "markdown",
   "metadata": {},
   "source": [
    "### TWO CLASS DECISION FOREST"
   ]
  },
  {
   "cell_type": "code",
   "execution_count": 2,
   "metadata": {},
   "outputs": [
    {
     "name": "stdout",
     "output_type": "stream",
     "text": [
      "b'{\"Results\":{\"output1\":[{\"Rating\":\"1\",\"Rating2\":\"1\",\"MovieId\":\"1\",\"Label\":\"1\",\"Scored Labels\":\"0\",\"Scored Probabilities\":\"0\"}]}}'\n"
     ]
    }
   ],
   "source": [
    "import urllib.request\n",
    "import json\n",
    "\n",
    "data = {\n",
    "        \"Inputs\": {\n",
    "                \"input1\":\n",
    "                [\n",
    "                    {\n",
    "                            'Rating': \"1\",   \n",
    "                            'Rating2': \"1\",   \n",
    "                            'MovieId': \"1\",   \n",
    "                            'Label': \"1\",   \n",
    "                    }\n",
    "                ],\n",
    "        },\n",
    "    \"GlobalParameters\":  {\n",
    "    }\n",
    "}\n",
    "\n",
    "body = str.encode(json.dumps(data))\n",
    "\n",
    "url = 'https://ussouthcentral.services.azureml.net/workspaces/191d5da9db064093b307739e0c4a02a7/services/0776ff348d3541ab88ec5dad4d1e3656/execute?api-version=2.0&format=swagger'\n",
    "api_key = 'LRAsPi3opLJtvh2+ls0TVxsWoWe6sR/FOBq8UgWN1POjo5uC4qhi+TahkiK5stLt7tee/drEUIwXQGUFfMpKSg==' # Replace this with the API key for the web service\n",
    "headers = {'Content-Type':'application/json', 'Authorization':('Bearer '+ api_key)}\n",
    "\n",
    "req = urllib.request.Request(url, body, headers)\n",
    "\n",
    "try:\n",
    "    response = urllib.request.urlopen(req)\n",
    "\n",
    "    result = response.read()\n",
    "    print(result)\n",
    "except urllib.error.HTTPError as error:\n",
    "    print(\"The request failed with status code: \" + str(error.code))\n",
    "\n",
    "    # Print the headers - they include the requert ID and the timestamp, which are useful for debugging the failure\n",
    "    print(error.info())\n",
    "    print(json.loads(error.read().decode(\"utf8\", 'ignore')))"
   ]
  },
  {
   "cell_type": "markdown",
   "metadata": {},
   "source": [
    "#### Adjunto también capturas de pantalla de mi proceso llevado a cabo en AZURE ML STUDIO."
   ]
  },
  {
   "cell_type": "code",
   "execution_count": null,
   "metadata": {},
   "outputs": [],
   "source": []
  }
 ],
 "metadata": {
  "kernelspec": {
   "display_name": "Python 3",
   "language": "python",
   "name": "python3"
  },
  "language_info": {
   "codemirror_mode": {
    "name": "ipython",
    "version": 3
   },
   "file_extension": ".py",
   "mimetype": "text/x-python",
   "name": "python",
   "nbconvert_exporter": "python",
   "pygments_lexer": "ipython3",
   "version": "3.6.5"
  }
 },
 "nbformat": 4,
 "nbformat_minor": 2
}
